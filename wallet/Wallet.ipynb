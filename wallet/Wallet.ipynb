{
 "cells": [
  {
   "cell_type": "code",
   "execution_count": 1,
   "source": [
    "# Importing libraries\r\n",
    "import os\r\n",
    "import subprocess \r\n",
    "import json\r\n",
    "from dotenv import load_dotenv"
   ],
   "outputs": [],
   "metadata": {}
  },
  {
   "cell_type": "code",
   "execution_count": 2,
   "source": [
    "# Load and set environment variables\r\n",
    "load_dotenv()\r\n",
    "mnemonic=os.getenv(\"mnemonic\")"
   ],
   "outputs": [],
   "metadata": {}
  },
  {
   "cell_type": "code",
   "execution_count": 3,
   "source": [
    "# Import constants.py and necessary functions from bit and web3\r\n",
    "from constants import *\r\n",
    "import inspect\r\n",
    "from bit import Key, PrivateKey, PrivateKeyTestnet\r\n",
    "from bit import *\r\n",
    "from bit.network import NetworkAPI\r\n",
    "from web3 import Web3, middleware, Account\r\n",
    "from bit import PrivateKeyTestnet\r\n",
    "# from eth_account import Account\r\n",
    "from getpass import getpass\r\n",
    "from pathlib import Path\r\n",
    "from web3.middleware import geth_poa_middleware"
   ],
   "outputs": [],
   "metadata": {}
  },
  {
   "cell_type": "code",
   "execution_count": 4,
   "source": [
    "# Web3 connection and loading mnemonic\r\n",
    "w3 = Web3(Web3.HTTPProvider(\"http://127.0.0.1.8545\"))\r\n",
    "w3.middleware_onion.inject(geth_poa_middleware, layer=0)"
   ],
   "outputs": [],
   "metadata": {}
  },
  {
   "cell_type": "code",
   "execution_count": 5,
   "source": [
    "# Create a function called `derive_wallets`\r\n",
    "def derive_wallets(mnemonic, coin, numderive):\r\n",
    "    \"\"\"Use the subprocess library to call the php file script from Python\"\"\"\r\n",
    "    command = f'php ./hd-wallet-derive/hd-wallet-derive.php -g --mnemonic=\"{mnemonic}\" --numderive=\"{numderive}\" --coin=\"{coin}\" --format=json' \r\n",
    "    \r\n",
    "    p = subprocess.Popen(command, stdout=subprocess.PIPE, shell=True)\r\n",
    "    (output, err) = p.communicate()\r\n",
    "   \r\n",
    "    p_status = p.wait()\r\n",
    "    keys = json.loads(output)\r\n",
    "    return  keys\r\n",
    " "
   ],
   "outputs": [],
   "metadata": {}
  },
  {
   "cell_type": "code",
   "execution_count": 6,
   "source": [
    "# Create a dictionary object called coins to store the output from `derive_wallets`.\n",
    "coins = {\"eth\", \"btc-test\"}\n",
    "numderive = 3"
   ],
   "outputs": [],
   "metadata": {}
  },
  {
   "cell_type": "code",
   "execution_count": 7,
   "source": [
    "# Setting the dictionarry\n",
    "keys = {}\n",
    "for coin in coins:\n",
    "    keys[coin]= derive_wallets(os.getenv('mnemonic'), coin, numderive=3)"
   ],
   "outputs": [],
   "metadata": {}
  },
  {
   "cell_type": "code",
   "execution_count": 8,
   "source": [
    "# Creating a private keys object\n",
    "eth_PrivateKey = keys[\"eth\"][0]['privkey']\n",
    "btc_PrivateKey = keys['btc-test'][0]['privkey']\n",
    "\n",
    "\n",
    "print(json.dumps(eth_PrivateKey, indent=4, sort_keys=True))\n",
    "print(json.dumps(btc_PrivateKey, indent=4, sort_keys=True))\n",
    "print(json.dumps(keys, indent=4, sort_keys=True))"
   ],
   "outputs": [
    {
     "output_type": "stream",
     "name": "stdout",
     "text": [
      "\"0x31a708a269e7c8f9cbb934afe97001f542e0e791458a8848ccd6c4040efef689\"\n",
      "\"cULobjtujJ4xn28zYUpu5bji5yW6XDpHGeT7ufafS8z6UPEU19Km\"\n",
      "{\n",
      "    \"btc-test\": [\n",
      "        {\n",
      "            \"address\": \"mwaPpwmv4RHGKpHBdaJZf4RcTxEZBKDKqr\",\n",
      "            \"index\": 0,\n",
      "            \"path\": \"m/44'/1'/0'/0/0\",\n",
      "            \"privkey\": \"cULobjtujJ4xn28zYUpu5bji5yW6XDpHGeT7ufafS8z6UPEU19Km\",\n",
      "            \"pubkey\": \"030efafe05f8ee8de6071c787cc1782e68fcfc0fdbdb9d3ce5fa7fa2d54607c0fc\",\n",
      "            \"pubkeyhash\": \"b02892efdb9fc0f37b4bab1efde62d47e137fef6\",\n",
      "            \"xprv\": \"tprv8jBu9RBfFdhQZmi2wDvJpxMsCEu25bdfi87hnrktCXMKv67xhNJp2VDinzhGiH6o691uELMNjp7tS2tbxhxMZJGFdVMuKxVPj66gm3NFKWv\",\n",
      "            \"xpub\": \"tpubDFswHqDuQ1P5TEjppsauEN1ymGQxEvpaHRiV5NoBco9ikaNjKm8QCyqay8Ag2q22N6fgXsRL4UCiUM83t5XfkrK22on49d5J3gz7v8wH4Lp\"\n",
      "        },\n",
      "        {\n",
      "            \"address\": \"n3ngzXicoHPCXfjNQ77DciUTq4Ctm5wUwm\",\n",
      "            \"index\": 1,\n",
      "            \"path\": \"m/44'/1'/0'/0/1\",\n",
      "            \"privkey\": \"cTnrHMJS2jiCmVhpQR5rcHRUEBhNtYWg5bs7untSGTdEhNiaaKoS\",\n",
      "            \"pubkey\": \"03539150cbb7e02e3c90de3c7fdf77576f1b6a44525b8524fadbb9fcf458063d70\",\n",
      "            \"pubkeyhash\": \"f44ca6288b146eb0b662aaf6232707f9ab911a88\",\n",
      "            \"xprv\": \"tprv8jBu9RBfFdhQcxjabyPV9G4xvopVXB9qp555wUVdy1HqPvjVK9U6iv6DJUQ4hKA8JcmcdAu7ct9L3VaTyZ55NcPnb4GorFDGUaTBzXNnr4n\",\n",
      "            \"xpub\": \"tpubDFswHqDuQ1P5WRmNVd45Yfj5VqLRgWLkPNfsDzXwPH6EEQzFwYHguQi5UcWuskZ2KuqpCxm2Ncipbta8B7BjRGBPALmBsa27nguEM2e1TSx\"\n",
      "        },\n",
      "        {\n",
      "            \"address\": \"mgh39kfoxxNMz4K6qXJGRc6kp1kxHL5g3D\",\n",
      "            \"index\": 2,\n",
      "            \"path\": \"m/44'/1'/0'/0/2\",\n",
      "            \"privkey\": \"cRAZxeYnJ6K5qYFLtK93HYc3gewXWVScnhRr4rbHoLLYDYoRnWMS\",\n",
      "            \"pubkey\": \"03cd9a93cdb73c5ae07e172f39e78122a8193587165917683434c6a7c8b7fa011c\",\n",
      "            \"pubkeyhash\": \"0ce056f89574a529113dd2fe92dc263f355bf875\",\n",
      "            \"xprv\": \"tprv8jBu9RBfFdhQg9qDyjK4PmP7U5aB7qxSPcdCcERFkAHvitr4saKw5Mjg9i6wnD3XmaY7Gq7G8pnEfV2QTzUVmsEQSW6gKrbxR1WFYpZkhkq\",\n",
      "            \"xpub\": \"tpubDFswHqDuQ1P5Zcs1sNyeoB3E3767HB9LxvDytkTZAS6KZP6qVy9XFrMYKsk3HQXsFvVGmCcZbLDZT6YDFxgcVfdxvNEqdjjScqzZxYMniiZ\"\n",
      "        }\n",
      "    ],\n",
      "    \"eth\": [\n",
      "        {\n",
      "            \"address\": \"0x42b3f09FA305a4b2E5E14f0553130ECB1772b63B\",\n",
      "            \"index\": 0,\n",
      "            \"path\": \"m/44'/60'/0'/0/0\",\n",
      "            \"privkey\": \"0x31a708a269e7c8f9cbb934afe97001f542e0e791458a8848ccd6c4040efef689\",\n",
      "            \"pubkey\": \"0261388ce7697dba242379466597917414975509ae8e5a2ca1fe68884b974398b5\",\n",
      "            \"pubkeyhash\": \"fadf6719e37218975d0ea3a6363a4149704d3be4\",\n",
      "            \"xprv\": \"xprvA2oJx9Cqsi7fi3Xfkjx8S7DkJCstgbx9CaZMFC4K77wZARRzPw3Mu3ao6AVrhKXcmgH39nLWioKNB4qsLnDzLmgJLNhCmhm7YZxFyvf3jt9\",\n",
      "            \"xpub\": \"xpub6FnfMejji5fxvXc8rmV8oFAUrEiP64fzZoUx3aTvfTUY3Dm8wUMcSquGwRtaD7Jf2eaMMBPDKyiaryKNvEwkYoH8PSqcqCrr92Xj163Dt52\"\n",
      "        },\n",
      "        {\n",
      "            \"address\": \"0xEbd3af65a12A58a4219F9772cca809FAf65Fbfb6\",\n",
      "            \"index\": 1,\n",
      "            \"path\": \"m/44'/60'/0'/0/1\",\n",
      "            \"privkey\": \"0x4664d6d5d91eaa0e7c21e862199eb5e69c1a82ddda72f76240dd33b8c96ee7cc\",\n",
      "            \"pubkey\": \"03efd2dd03016001901dd802dcdea9d16495c560b76533fb8001a3281df040a962\",\n",
      "            \"pubkeyhash\": \"96f56116267309c7c429e669621ed02b0baef471\",\n",
      "            \"xprv\": \"xprvA2oJx9Cqsi7fjkXQBXmxceHTFc2x95GtyjuuzfawtFLgDm4p2svxjfoY2VwSL2PaHonLbwarjraPwsYA6fVXH25x93qcyHj7qbupkUsqZjs\",\n",
      "            \"xpub\": \"xpub6FnfMejji5fxxEbsHZJxynEBodsSYXzkLxqWo3zZSasf6ZPxaRFDHU81spCZoZjU2sm986KS3QZraLoSJH986FWoESWqKmzBqsQYW3GyDB5\"\n",
      "        },\n",
      "        {\n",
      "            \"address\": \"0xe7e8d165f727e7b6398475d67C3eF5D3AcA96382\",\n",
      "            \"index\": 2,\n",
      "            \"path\": \"m/44'/60'/0'/0/2\",\n",
      "            \"privkey\": \"0x06866b5c24bab7b2ccfba211b07c191042c144614310a2741285fa2957bcec0e\",\n",
      "            \"pubkey\": \"026744adbdc1c950acabafdc0d559826f54c0cff528bd70f22b9a401671e1feed1\",\n",
      "            \"pubkeyhash\": \"d53b952bca8e37e69c7995901510e4b8b745968f\",\n",
      "            \"xprv\": \"xprvA2oJx9Cqsi7foAYRPUiHqnfHbhaPfoE963QL3vZvt963WkQvur1bsqUBtxM3XmKyoiC1H4GY9KERRPDRhDGurbTZm4XraRhKNBZtHBasugK\",\n",
      "            \"xpub\": \"xpub6FnfMejji5fy1ectVWFJCvc29jQt5FwzTGKvrJyYSUd2PYk5TPKrRdnfkE7R9ZnRFp5buH7seRnJdRuDrmzQWx87CUDHQcKe5pS6VvE9AQC\"\n",
      "        }\n",
      "    ]\n",
      "}\n"
     ]
    }
   ],
   "metadata": {}
  },
  {
   "cell_type": "code",
   "execution_count": 9,
   "source": [
    "# Create a function called `priv_key_to_account` that converts privkey strings to account objects.\n",
    "def priv_key_to_account(coin, priv_key):\n",
    "    \"\"\"Convert the privkey string in a child key to an account object that bit or web3.py can use to transact\"\"\"\n",
    "    if coin == ETH:\n",
    "        return Account.privateKeyToAccount(priv_key)\n",
    "    if coin == BTCTEST:\n",
    "        return PrivateKeyTestnet(priv_key) "
   ],
   "outputs": [],
   "metadata": {}
  },
  {
   "cell_type": "code",
   "execution_count": 10,
   "source": [
    "eth_acc = priv_key_to_account(ETH,eth_PrivateKey)\n",
    "btc_acc = priv_key_to_account(BTCTEST,btc_PrivateKey)"
   ],
   "outputs": [],
   "metadata": {}
  },
  {
   "cell_type": "code",
   "execution_count": 11,
   "source": [
    "print(eth_acc)\n",
    "print(btc_acc)"
   ],
   "outputs": [
    {
     "output_type": "stream",
     "name": "stdout",
     "text": [
      "<eth_account.signers.local.LocalAccount object at 0x00000225B46879D0>\n",
      "<PrivateKeyTestnet: mwaPpwmv4RHGKpHBdaJZf4RcTxEZBKDKqr>\n"
     ]
    }
   ],
   "metadata": {}
  },
  {
   "cell_type": "code",
   "execution_count": 12,
   "source": [
    "# Create a function called `create_tx` that creates an unsigned transaction appropriate metadata.\n",
    "def create_tx(coin, account, recipient, amount):\n",
    "    \"\"\"create the raw, unsigned transaction that contains all metadata needed to transact\"\"\"\n",
    "    global tx_data\n",
    "    if coin ==ETH:\n",
    "        gasEstimate = w3.eth.estimateGas(\n",
    "            {\"from\": account.address, \"to\": recipient, \"value\": amount}\n",
    "        )\n",
    "        tx_data = {\n",
    "            \"to\": recipient,\n",
    "            \"from\": account.address,\n",
    "            \"value\": amount,\n",
    "            \"gasPrice\": w3.eth.gasPrice,\n",
    "            \"gas\": gasEstimate,\n",
    "            \"nonce\": w3.eth.getTransactionCount(account.address)\n",
    "        }\n",
    "        return tx_data\n",
    "\n",
    "    if coin == BTCTEST:\n",
    "        return PrivateKeyTestnet.prepare_transaction(account.address, [(recipient, amount, BTC)]) "
   ],
   "outputs": [],
   "metadata": {}
  },
  {
   "cell_type": "code",
   "execution_count": 13,
   "source": [
    "# Create a function called `send_tx` that calls `create_tx`, signs and sends the transaction.\n",
    "def send_tx(coin, account, recipient, amount):\n",
    "    \"\"\"call create_trx, sign the transaction, then send it to the designated network\"\"\"\n",
    "    if coin == \"eth\": \n",
    "        tx_eth = create_tx(coin,account, recipient, amount)\n",
    "        sign = account.signTransaction(trx_eth)\n",
    "        result = w3.eth.sendRawTransaction(sign.rawTransaction)\n",
    "        print(result.hex())\n",
    "        return result.hex()\n",
    "    else:\n",
    "        tx_btctest= create_tx(coin,account,recipient,amount)\n",
    "        sign_tx_btctest = account.sign_transaction(tx_btctest)\n",
    "        from bit.network import NetworkAPI\n",
    "        NetworkAPI.broadcast_tx_testnet(sign_tx_btctest)       \n",
    "        return sign_tx_btctest\n",
    "       "
   ],
   "outputs": [],
   "metadata": {}
  },
  {
   "cell_type": "code",
   "execution_count": 14,
   "source": [
    "create_tx(BTCTEST,btc_acc,\"mwaPpwmv4RHGKpHBdaJZf4RcTxEZBKDKqr\", 0.00001)"
   ],
   "outputs": [
    {
     "output_type": "execute_result",
     "data": {
      "text/plain": [
       "'{\"unspents\":[{\"amount\":1000,\"confirmations\":7,\"script\":\"76a914b02892efdb9fc0f37b4bab1efde62d47e137fef688ac\",\"txid\":\"0bb1aca84c17dac09050389a8c5b242d3963a8589262db7b7b66ca56074bec2c\",\"txindex\":0,\"type\":\"p2pkh\",\"vsize\":148,\"segwit\":false,\"sequence\":4294967295},{\"amount\":75948,\"confirmations\":7,\"script\":\"76a914b02892efdb9fc0f37b4bab1efde62d47e137fef688ac\",\"txid\":\"0bb1aca84c17dac09050389a8c5b242d3963a8589262db7b7b66ca56074bec2c\",\"txindex\":1,\"type\":\"p2pkh\",\"vsize\":148,\"segwit\":false,\"sequence\":4294967295}],\"outputs\":[[\"mwaPpwmv4RHGKpHBdaJZf4RcTxEZBKDKqr\",1000],[\"mwaPpwmv4RHGKpHBdaJZf4RcTxEZBKDKqr\",37800]]}'"
      ]
     },
     "metadata": {},
     "execution_count": 14
    }
   ],
   "metadata": {}
  },
  {
   "cell_type": "code",
   "execution_count": 15,
   "source": [
    "send_tx(BTCTEST,btc_acc,'mwaPpwmv4RHGKpHBdaJZf4RcTxEZBKDKqr',0.00001)"
   ],
   "outputs": [
    {
     "output_type": "execute_result",
     "data": {
      "text/plain": [
       "'01000000022cec4b0756ca667b7bdb629258a863392d245b8c9a385090c0da174ca8acb10b010000006a4730440220317bc690f38df7038afe9c6818bef30e00523a4296e0d9f41289f6ceb73b35b0022038a65f1aa4ad459c7d12b0b4807555763e4ea5c1281b8e23c455032cf754c14d0121030efafe05f8ee8de6071c787cc1782e68fcfc0fdbdb9d3ce5fa7fa2d54607c0fcffffffff2cec4b0756ca667b7bdb629258a863392d245b8c9a385090c0da174ca8acb10b000000006a473044022035f2351e582c122ec9c9aa41ebad87d49679ca6e409dcdf2d6aa837f158fce2602204b3e57bce02b773db357d44f816c85cff6982cce00fcf04acc4c46c67c4f19c00121030efafe05f8ee8de6071c787cc1782e68fcfc0fdbdb9d3ce5fa7fa2d54607c0fcffffffff02e8030000000000001976a914b02892efdb9fc0f37b4bab1efde62d47e137fef688aca8930000000000001976a914b02892efdb9fc0f37b4bab1efde62d47e137fef688ac00000000'"
      ]
     },
     "metadata": {},
     "execution_count": 15
    }
   ],
   "metadata": {}
  },
  {
   "cell_type": "code",
   "execution_count": null,
   "source": [],
   "outputs": [],
   "metadata": {}
  }
 ],
 "metadata": {
  "kernelspec": {
   "display_name": "Python 3",
   "language": "python",
   "name": "python3"
  },
  "language_info": {
   "codemirror_mode": {
    "name": "ipython",
    "version": 3
   },
   "file_extension": ".py",
   "mimetype": "text/x-python",
   "name": "python",
   "nbconvert_exporter": "python",
   "pygments_lexer": "ipython3",
   "version": "3.8.8"
  }
 },
 "nbformat": 4,
 "nbformat_minor": 5
}