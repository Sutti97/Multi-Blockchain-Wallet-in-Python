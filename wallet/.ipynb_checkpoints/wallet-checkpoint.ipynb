{
 "cells": [
  {
   "cell_type": "code",
   "execution_count": 1,
   "id": "32cbe7c5-9b73-4953-b01b-629701467eaa",
   "metadata": {},
   "outputs": [],
   "source": [
    "# Importing libraries\n",
    "import os\n",
    "import subprocess \n",
    "import json\n",
    "from dotenv import load_dotenv"
   ]
  },
  {
   "cell_type": "code",
   "execution_count": 2,
   "id": "5919a713-5b7a-4514-9026-4abd728ed750",
   "metadata": {},
   "outputs": [],
   "source": [
    "# Load and set environment variables\n",
    "load_dotenv()\n",
    "mnemonic=os.getenv(\"mnemonic\")"
   ]
  },
  {
   "cell_type": "code",
   "execution_count": 3,
   "id": "eefa5051-ced3-488b-9240-0dafd52beeb0",
   "metadata": {},
   "outputs": [],
   "source": [
    "# Import constants.py and necessary functions from bit and web3\n",
    "from constants import *\n",
    "import inspect\n",
    "from bit import Key, PrivateKey, PrivateKeyTestnet\n",
    "from bit import *\n",
    "from bit.network import NetworkAPI\n",
    "from web3 import Web3, middleware, Account\n",
    "from bit import PrivateKeyTestnet\n",
    "# from eth_account import Account\n",
    "from getpass import getpass\n",
    "from pathlib import Path\n",
    "from web3.middleware import geth_poa_middleware"
   ]
  },
  {
   "cell_type": "code",
   "execution_count": 4,
   "id": "987782aa-f021-4a3c-abe1-02177e615194",
   "metadata": {},
   "outputs": [],
   "source": [
    "# Web3 connection and loading mnemonic\n",
    "w3 = Web3(Web3.HTTPProvider(\"http://127.0.0.1.8545\"))\n",
    "w3.middleware_onion.inject(geth_poa_middleware, layer=0)"
   ]
  },
  {
   "cell_type": "code",
   "execution_count": 5,
   "id": "1ebfc87c-50b1-4876-9507-520659e6e132",
   "metadata": {},
   "outputs": [],
   "source": [
    "# Create a function called `derive_wallets`\n",
    "def derive_wallets(mnemonic, coin, numderive):\n",
    "    \"\"\"Use the subprocess library to call the php file script from Python\"\"\"\n",
    "    command = f'php ./hd-wallet-derive/hd-wallet-derive.php -g --mnemonic=\"{mnemonic}\" --numderive=\"{numderive}\" --coin=\"{coin}\" --format=json' \n",
    "    \n",
    "    p = subprocess.Popen(command, stdout=subprocess.PIPE, shell=True)\n",
    "    (output, err) = p.communicate()\n",
    "   \n",
    "    p_status = p.wait()\n",
    "    keys = json.loads(output)\n",
    "    return  keys\n",
    " "
   ]
  },
  {
   "cell_type": "code",
   "execution_count": 6,
   "id": "73da10ea-d95e-4181-b9f6-3e3e5d1d1e8b",
   "metadata": {},
   "outputs": [],
   "source": [
    "# Create a dictionary object called coins to store the output from `derive_wallets`.\n",
    "coins = {\"eth\", \"btc-test\"}\n",
    "numderive = 3"
   ]
  },
  {
   "cell_type": "code",
   "execution_count": 7,
   "id": "6a1a5fce-8d52-47ca-b0b5-07079754a5b0",
   "metadata": {},
   "outputs": [],
   "source": [
    "# Setting the dictionarry\n",
    "keys = {}\n",
    "for coin in coins:\n",
    "    keys[coin]= derive_wallets(os.getenv('mnemonic'), coin, numderive=3)"
   ]
  },
  {
   "cell_type": "code",
   "execution_count": 8,
   "id": "26e2ac1b-9836-4bd3-aae2-9aa157fde467",
   "metadata": {},
   "outputs": [
    {
     "name": "stdout",
     "output_type": "stream",
     "text": [
      "\"0x31a708a269e7c8f9cbb934afe97001f542e0e791458a8848ccd6c4040efef689\"\n",
      "\"cULobjtujJ4xn28zYUpu5bji5yW6XDpHGeT7ufafS8z6UPEU19Km\"\n",
      "{\n",
      "    \"btc-test\": [\n",
      "        {\n",
      "            \"address\": \"mwaPpwmv4RHGKpHBdaJZf4RcTxEZBKDKqr\",\n",
      "            \"index\": 0,\n",
      "            \"path\": \"m/44'/1'/0'/0/0\",\n",
      "            \"privkey\": \"cULobjtujJ4xn28zYUpu5bji5yW6XDpHGeT7ufafS8z6UPEU19Km\",\n",
      "            \"pubkey\": \"030efafe05f8ee8de6071c787cc1782e68fcfc0fdbdb9d3ce5fa7fa2d54607c0fc\",\n",
      "            \"pubkeyhash\": \"b02892efdb9fc0f37b4bab1efde62d47e137fef6\",\n",
      "            \"xprv\": \"tprv8jBu9RBfFdhQZmi2wDvJpxMsCEu25bdfi87hnrktCXMKv67xhNJp2VDinzhGiH6o691uELMNjp7tS2tbxhxMZJGFdVMuKxVPj66gm3NFKWv\",\n",
      "            \"xpub\": \"tpubDFswHqDuQ1P5TEjppsauEN1ymGQxEvpaHRiV5NoBco9ikaNjKm8QCyqay8Ag2q22N6fgXsRL4UCiUM83t5XfkrK22on49d5J3gz7v8wH4Lp\"\n",
      "        },\n",
      "        {\n",
      "            \"address\": \"n3ngzXicoHPCXfjNQ77DciUTq4Ctm5wUwm\",\n",
      "            \"index\": 1,\n",
      "            \"path\": \"m/44'/1'/0'/0/1\",\n",
      "            \"privkey\": \"cTnrHMJS2jiCmVhpQR5rcHRUEBhNtYWg5bs7untSGTdEhNiaaKoS\",\n",
      "            \"pubkey\": \"03539150cbb7e02e3c90de3c7fdf77576f1b6a44525b8524fadbb9fcf458063d70\",\n",
      "            \"pubkeyhash\": \"f44ca6288b146eb0b662aaf6232707f9ab911a88\",\n",
      "            \"xprv\": \"tprv8jBu9RBfFdhQcxjabyPV9G4xvopVXB9qp555wUVdy1HqPvjVK9U6iv6DJUQ4hKA8JcmcdAu7ct9L3VaTyZ55NcPnb4GorFDGUaTBzXNnr4n\",\n",
      "            \"xpub\": \"tpubDFswHqDuQ1P5WRmNVd45Yfj5VqLRgWLkPNfsDzXwPH6EEQzFwYHguQi5UcWuskZ2KuqpCxm2Ncipbta8B7BjRGBPALmBsa27nguEM2e1TSx\"\n",
      "        },\n",
      "        {\n",
      "            \"address\": \"mgh39kfoxxNMz4K6qXJGRc6kp1kxHL5g3D\",\n",
      "            \"index\": 2,\n",
      "            \"path\": \"m/44'/1'/0'/0/2\",\n",
      "            \"privkey\": \"cRAZxeYnJ6K5qYFLtK93HYc3gewXWVScnhRr4rbHoLLYDYoRnWMS\",\n",
      "            \"pubkey\": \"03cd9a93cdb73c5ae07e172f39e78122a8193587165917683434c6a7c8b7fa011c\",\n",
      "            \"pubkeyhash\": \"0ce056f89574a529113dd2fe92dc263f355bf875\",\n",
      "            \"xprv\": \"tprv8jBu9RBfFdhQg9qDyjK4PmP7U5aB7qxSPcdCcERFkAHvitr4saKw5Mjg9i6wnD3XmaY7Gq7G8pnEfV2QTzUVmsEQSW6gKrbxR1WFYpZkhkq\",\n",
      "            \"xpub\": \"tpubDFswHqDuQ1P5Zcs1sNyeoB3E3767HB9LxvDytkTZAS6KZP6qVy9XFrMYKsk3HQXsFvVGmCcZbLDZT6YDFxgcVfdxvNEqdjjScqzZxYMniiZ\"\n",
      "        }\n",
      "    ],\n",
      "    \"eth\": [\n",
      "        {\n",
      "            \"address\": \"0x42b3f09FA305a4b2E5E14f0553130ECB1772b63B\",\n",
      "            \"index\": 0,\n",
      "            \"path\": \"m/44'/60'/0'/0/0\",\n",
      "            \"privkey\": \"0x31a708a269e7c8f9cbb934afe97001f542e0e791458a8848ccd6c4040efef689\",\n",
      "            \"pubkey\": \"0261388ce7697dba242379466597917414975509ae8e5a2ca1fe68884b974398b5\",\n",
      "            \"pubkeyhash\": \"fadf6719e37218975d0ea3a6363a4149704d3be4\",\n",
      "            \"xprv\": \"xprvA2oJx9Cqsi7fi3Xfkjx8S7DkJCstgbx9CaZMFC4K77wZARRzPw3Mu3ao6AVrhKXcmgH39nLWioKNB4qsLnDzLmgJLNhCmhm7YZxFyvf3jt9\",\n",
      "            \"xpub\": \"xpub6FnfMejji5fxvXc8rmV8oFAUrEiP64fzZoUx3aTvfTUY3Dm8wUMcSquGwRtaD7Jf2eaMMBPDKyiaryKNvEwkYoH8PSqcqCrr92Xj163Dt52\"\n",
      "        },\n",
      "        {\n",
      "            \"address\": \"0xEbd3af65a12A58a4219F9772cca809FAf65Fbfb6\",\n",
      "            \"index\": 1,\n",
      "            \"path\": \"m/44'/60'/0'/0/1\",\n",
      "            \"privkey\": \"0x4664d6d5d91eaa0e7c21e862199eb5e69c1a82ddda72f76240dd33b8c96ee7cc\",\n",
      "            \"pubkey\": \"03efd2dd03016001901dd802dcdea9d16495c560b76533fb8001a3281df040a962\",\n",
      "            \"pubkeyhash\": \"96f56116267309c7c429e669621ed02b0baef471\",\n",
      "            \"xprv\": \"xprvA2oJx9Cqsi7fjkXQBXmxceHTFc2x95GtyjuuzfawtFLgDm4p2svxjfoY2VwSL2PaHonLbwarjraPwsYA6fVXH25x93qcyHj7qbupkUsqZjs\",\n",
      "            \"xpub\": \"xpub6FnfMejji5fxxEbsHZJxynEBodsSYXzkLxqWo3zZSasf6ZPxaRFDHU81spCZoZjU2sm986KS3QZraLoSJH986FWoESWqKmzBqsQYW3GyDB5\"\n",
      "        },\n",
      "        {\n",
      "            \"address\": \"0xe7e8d165f727e7b6398475d67C3eF5D3AcA96382\",\n",
      "            \"index\": 2,\n",
      "            \"path\": \"m/44'/60'/0'/0/2\",\n",
      "            \"privkey\": \"0x06866b5c24bab7b2ccfba211b07c191042c144614310a2741285fa2957bcec0e\",\n",
      "            \"pubkey\": \"026744adbdc1c950acabafdc0d559826f54c0cff528bd70f22b9a401671e1feed1\",\n",
      "            \"pubkeyhash\": \"d53b952bca8e37e69c7995901510e4b8b745968f\",\n",
      "            \"xprv\": \"xprvA2oJx9Cqsi7foAYRPUiHqnfHbhaPfoE963QL3vZvt963WkQvur1bsqUBtxM3XmKyoiC1H4GY9KERRPDRhDGurbTZm4XraRhKNBZtHBasugK\",\n",
      "            \"xpub\": \"xpub6FnfMejji5fy1ectVWFJCvc29jQt5FwzTGKvrJyYSUd2PYk5TPKrRdnfkE7R9ZnRFp5buH7seRnJdRuDrmzQWx87CUDHQcKe5pS6VvE9AQC\"\n",
      "        }\n",
      "    ]\n",
      "}\n"
     ]
    }
   ],
   "source": [
    "# Creating a private keys object\n",
    "eth_PrivateKey = keys[\"eth\"][0]['privkey']\n",
    "btc_PrivateKey = keys['btc-test'][0]['privkey']\n",
    "\n",
    "\n",
    "print(json.dumps(eth_PrivateKey, indent=4, sort_keys=True))\n",
    "print(json.dumps(btc_PrivateKey, indent=4, sort_keys=True))\n",
    "print(json.dumps(keys, indent=4, sort_keys=True))"
   ]
  },
  {
   "cell_type": "code",
   "execution_count": 9,
   "id": "908f2a8f-7275-4de8-a6e3-fa600314e023",
   "metadata": {},
   "outputs": [],
   "source": [
    "# Create a function called `priv_key_to_account` that converts privkey strings to account objects.\n",
    "def priv_key_to_account(coin, priv_key):\n",
    "    \"\"\"Convert the privkey string in a child key to an account object that bit or web3.py can use to transact\"\"\"\n",
    "    if coin == ETH:\n",
    "        return Account.privateKeyToAccount(priv_key)\n",
    "    if coin == BTCTEST:\n",
    "        return PrivateKeyTestnet(priv_key) "
   ]
  },
  {
   "cell_type": "code",
   "execution_count": 10,
   "id": "e3433d79-c45d-4c44-8c84-8d5882cc1385",
   "metadata": {},
   "outputs": [],
   "source": [
    "eth_acc = priv_key_to_account(ETH,eth_PrivateKey)\n",
    "btc_acc = priv_key_to_account(BTCTEST,btc_PrivateKey)"
   ]
  },
  {
   "cell_type": "code",
   "execution_count": 11,
   "id": "c604a957-afd5-49cf-97c5-6e997628a89a",
   "metadata": {},
   "outputs": [
    {
     "name": "stdout",
     "output_type": "stream",
     "text": [
      "<eth_account.signers.local.LocalAccount object at 0x000001F67FD32160>\n",
      "<PrivateKeyTestnet: mwaPpwmv4RHGKpHBdaJZf4RcTxEZBKDKqr>\n"
     ]
    }
   ],
   "source": [
    "print(eth_acc)\n",
    "print(btc_acc)"
   ]
  },
  {
   "cell_type": "code",
   "execution_count": 12,
   "id": "86b6c485-4298-46a9-b591-7586f3d4980c",
   "metadata": {},
   "outputs": [],
   "source": [
    "# Create a function called `create_tx` that creates an unsigned transaction appropriate metadata.\n",
    "def create_tx(coin, account, recipient, amount):\n",
    "    \"\"\"create the raw, unsigned transaction that contains all metadata needed to transact\"\"\"\n",
    "    global tx_data\n",
    "    if coin ==ETH:\n",
    "        gasEstimate = w3.eth.estimateGas(\n",
    "            {\"from\": account.address, \"to\": recipient, \"value\": amount}\n",
    "        )\n",
    "        tx_data = {\n",
    "            \"to\": recipient,\n",
    "            \"from\": account.address,\n",
    "            \"value\": amount,\n",
    "            \"gasPrice\": w3.eth.gasPrice,\n",
    "            \"gas\": gasEstimate,\n",
    "            \"nonce\": w3.eth.getTransactionCount(account.address)\n",
    "        }\n",
    "        return tx_data\n",
    "\n",
    "    if coin == BTCTEST:\n",
    "        return PrivateKeyTestnet.prepare_transaction(account.address, [(recipient, amount, BTC)]) "
   ]
  },
  {
   "cell_type": "code",
   "execution_count": 13,
   "id": "041a61e0-d74e-4575-84f6-cbed4b546ebf",
   "metadata": {},
   "outputs": [],
   "source": [
    "# Create a function called `send_tx` that calls `create_tx`, signs and sends the transaction.\n",
    "def send_tx(coin, account, recipient, amount):\n",
    "    \"\"\"call create_trx, sign the transaction, then send it to the designated network\"\"\"\n",
    "    if coin == \"eth\": \n",
    "        tx_eth = create_tx(coin,account, recipient, amount)\n",
    "        sign = account.signTransaction(trx_eth)\n",
    "        result = w3.eth.sendRawTransaction(sign.rawTransaction)\n",
    "        print(result.hex())\n",
    "        return result.hex()\n",
    "    else:\n",
    "        tx_btctest= create_tx(coin,account,recipient,amount)\n",
    "        sign_tx_btctest = account.sign_transaction(tx_btctest)\n",
    "        from bit.network import NetworkAPI\n",
    "        NetworkAPI.broadcast_tx_testnet(sign_tx_btctest)       \n",
    "        return sign_tx_btctest\n",
    "       "
   ]
  },
  {
   "cell_type": "code",
   "execution_count": 14,
   "id": "d14ac4cf-88de-4620-80ec-a886ece39a63",
   "metadata": {},
   "outputs": [
    {
     "data": {
      "text/plain": [
       "'{\"unspents\":[{\"amount\":100000,\"confirmations\":0,\"script\":\"76a914b02892efdb9fc0f37b4bab1efde62d47e137fef688ac\",\"txid\":\"941da953d54e61fdd000f987b3ac5f63030849141df1e76b31ef5abeffd33d96\",\"txindex\":0,\"type\":\"p2pkh\",\"vsize\":148,\"segwit\":false,\"sequence\":4294967295}],\"outputs\":[[\"mwaPpwmv4RHGKpHBdaJZf4RcTxEZBKDKqr\",1000],[\"mwaPpwmv4RHGKpHBdaJZf4RcTxEZBKDKqr\",75948]]}'"
      ]
     },
     "execution_count": 14,
     "metadata": {},
     "output_type": "execute_result"
    }
   ],
   "source": [
    "create_tx(BTCTEST,btc_acc,\"mwaPpwmv4RHGKpHBdaJZf4RcTxEZBKDKqr\", 0.00001)"
   ]
  },
  {
   "cell_type": "code",
   "execution_count": 16,
   "id": "0209c48c-1676-41fd-a57d-59e879ba9db0",
   "metadata": {},
   "outputs": [
    {
     "data": {
      "text/plain": [
       "'0100000001963dd3ffbe5aef316be7f11d14490803635facb387f900d0fd614ed553a91d94000000006a47304402207bebc2e4108dd031ebdc473a289629c5d08690539ed8f0d63bf3793f2690c91c02206fb730849cb52a541193b99b782691bf3fdc9df640125a0ab841fbf1f76469530121030efafe05f8ee8de6071c787cc1782e68fcfc0fdbdb9d3ce5fa7fa2d54607c0fcffffffff02e8030000000000001976a914b02892efdb9fc0f37b4bab1efde62d47e137fef688acac280100000000001976a914b02892efdb9fc0f37b4bab1efde62d47e137fef688ac00000000'"
      ]
     },
     "execution_count": 16,
     "metadata": {},
     "output_type": "execute_result"
    }
   ],
   "source": [
    "send_tx(BTCTEST,btc_acc,'mwaPpwmv4RHGKpHBdaJZf4RcTxEZBKDKqr',0.00001)"
   ]
  },
  {
   "cell_type": "code",
   "execution_count": null,
   "id": "b29e5ac9-b07e-4bcd-9d75-43c6587265b5",
   "metadata": {},
   "outputs": [],
   "source": []
  }
 ],
 "metadata": {
  "kernelspec": {
   "display_name": "Python 3",
   "language": "python",
   "name": "python3"
  },
  "language_info": {
   "codemirror_mode": {
    "name": "ipython",
    "version": 3
   },
   "file_extension": ".py",
   "mimetype": "text/x-python",
   "name": "python",
   "nbconvert_exporter": "python",
   "pygments_lexer": "ipython3",
   "version": "3.8.8"
  }
 },
 "nbformat": 4,
 "nbformat_minor": 5
}
